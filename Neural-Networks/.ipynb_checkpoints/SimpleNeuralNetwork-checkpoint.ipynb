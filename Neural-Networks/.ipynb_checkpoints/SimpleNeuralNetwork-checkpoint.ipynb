{
 "cells": [
  {
   "cell_type": "code",
   "execution_count": 31,
   "metadata": {},
   "outputs": [],
   "source": [
    "import numpy as np\n",
    "import pandas as pd\n",
    "import matplotlib.pyplot as plt"
   ]
  },
  {
   "cell_type": "code",
   "execution_count": 32,
   "metadata": {},
   "outputs": [],
   "source": [
    "def sigmoid(x):\n",
    "    return 1 / (1 + np.exp(-x))"
   ]
  },
  {
   "cell_type": "code",
   "execution_count": 33,
   "metadata": {},
   "outputs": [],
   "source": [
    "def sigmoidDerivative(x):\n",
    "    return x * (1 - x)"
   ]
  },
  {
   "cell_type": "code",
   "execution_count": 34,
   "metadata": {},
   "outputs": [],
   "source": [
    "training_inputs = np.array([\n",
    "    [0, 0, 1],\n",
    "    [1, 1, 1],\n",
    "    [1, 0, 1],\n",
    "    [0, 1, 1],\n",
    "])"
   ]
  },
  {
   "cell_type": "code",
   "execution_count": 35,
   "metadata": {},
   "outputs": [],
   "source": [
    "training_outputs = np.array([[0, 1, 1, 0]]).T\n",
    "np.random.seed(1)"
   ]
  },
  {
   "cell_type": "code",
   "execution_count": 36,
   "metadata": {},
   "outputs": [],
   "source": [
    "synaptic_weights = 2 * np.random.random((3,1)) - 1"
   ]
  },
  {
   "cell_type": "code",
   "execution_count": 37,
   "metadata": {},
   "outputs": [
    {
     "name": "stdout",
     "output_type": "stream",
     "text": [
      "[[-0.16595599]\n",
      " [ 0.44064899]\n",
      " [-0.99977125]]\n"
     ]
    }
   ],
   "source": [
    "print(synaptic_weights)"
   ]
  },
  {
   "cell_type": "code",
   "execution_count": 56,
   "metadata": {},
   "outputs": [
    {
     "name": "stdout",
     "output_type": "stream",
     "text": [
      "[0.99916803]\n",
      "[0.99916851]\n",
      "[0.99916898]\n",
      "[0.99916946]\n",
      "[0.99916994]\n",
      "[0.99917041]\n",
      "[0.99917089]\n",
      "[0.99917136]\n",
      "[0.99917183]\n",
      "[0.99917231]\n",
      "[0.99917278]\n",
      "[0.99917325]\n",
      "[0.99917372]\n",
      "[0.99917419]\n",
      "[0.99917465]\n",
      "[0.99917512]\n",
      "[0.99917559]\n",
      "[0.99917605]\n",
      "[0.99917652]\n",
      "[0.99917698]\n",
      "[0.99917745]\n",
      "[0.99917791]\n",
      "[0.99917837]\n",
      "[0.99917883]\n",
      "[0.99917929]\n",
      "[0.99917975]\n",
      "[0.99918021]\n",
      "[0.99918067]\n",
      "[0.99918113]\n",
      "[0.99918158]\n",
      "[0.99918204]\n",
      "[0.99918249]\n",
      "[0.99918295]\n",
      "[0.9991834]\n",
      "[0.99918385]\n",
      "[0.9991843]\n",
      "[0.99918476]\n",
      "[0.99918521]\n",
      "[0.99918565]\n",
      "[0.9991861]\n",
      "[0.99918655]\n",
      "[0.999187]\n",
      "[0.99918745]\n",
      "[0.99918789]\n",
      "[0.99918834]\n",
      "[0.99918878]\n",
      "[0.99918923]\n",
      "[0.99918967]\n",
      "[0.99919011]\n",
      "[0.99919055]\n",
      "[0.99919099]\n",
      "[0.99919143]\n",
      "[0.99919187]\n",
      "[0.99919231]\n",
      "[0.99919275]\n",
      "[0.99919319]\n",
      "[0.99919362]\n",
      "[0.99919406]\n",
      "[0.99919449]\n",
      "[0.99919493]\n",
      "[0.99919536]\n",
      "[0.99919579]\n",
      "[0.99919623]\n",
      "[0.99919666]\n",
      "[0.99919709]\n",
      "[0.99919752]\n",
      "[0.99919795]\n",
      "[0.99919838]\n",
      "[0.99919881]\n",
      "[0.99919923]\n",
      "[0.99919966]\n",
      "[0.99920009]\n",
      "[0.99920051]\n",
      "[0.99920094]\n",
      "[0.99920136]\n",
      "[0.99920178]\n",
      "[0.99920221]\n",
      "[0.99920263]\n",
      "[0.99920305]\n",
      "[0.99920347]\n",
      "[0.99920389]\n",
      "[0.99920431]\n",
      "[0.99920473]\n",
      "[0.99920515]\n",
      "[0.99920557]\n",
      "[0.99920598]\n",
      "[0.9992064]\n",
      "[0.99920681]\n",
      "[0.99920723]\n",
      "[0.99920764]\n"
     ]
    }
   ],
   "source": [
    "for t in range(90000):\n",
    "    input_layer = training_inputs\n",
    "        \n",
    "    outputs = sigmoid(np.dot(input_layer, synaptic_weights))\n",
    "    # Calculate Errors.\n",
    "    error = training_outputs - outputs\n",
    "    # Make Adjustments.        \n",
    "    adjustments = error * sigmoidDerivative(\n",
    "        outputs)\n",
    "    if t % 1000 == 0:\n",
    "        print(abs(outputs[1]))\n",
    "    # Update the Weights.\n",
    "    synaptic_weights += np.dot(input_layer.T, adjustments)"
   ]
  },
  {
   "cell_type": "code",
   "execution_count": 50,
   "metadata": {},
   "outputs": [
    {
     "name": "stdout",
     "output_type": "stream",
     "text": [
      "[[0.00137295]\n",
      " [0.99887921]\n",
      " [0.9990854 ]\n",
      " [0.00112043]]\n"
     ]
    }
   ],
   "source": [
    "print(outputs)"
   ]
  }
 ],
 "metadata": {
  "kernelspec": {
   "display_name": "Python 3",
   "language": "python",
   "name": "python3"
  },
  "language_info": {
   "codemirror_mode": {
    "name": "ipython",
    "version": 3
   },
   "file_extension": ".py",
   "mimetype": "text/x-python",
   "name": "python",
   "nbconvert_exporter": "python",
   "pygments_lexer": "ipython3",
   "version": "3.7.3"
  }
 },
 "nbformat": 4,
 "nbformat_minor": 2
}
