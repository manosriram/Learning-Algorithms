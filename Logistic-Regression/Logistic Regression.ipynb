{
 "cells": [
  {
   "cell_type": "code",
   "execution_count": 253,
   "metadata": {},
   "outputs": [],
   "source": [
    "%matplotlib inline\n",
    "import numpy as np\n",
    "import pandas as pd\n",
    "import matplotlib.pyplot as plt"
   ]
  },
  {
   "cell_type": "code",
   "execution_count": 432,
   "metadata": {},
   "outputs": [],
   "source": [
    "feature_columns = ['Test1 Marks', 'Test2 Marks', 'Admitted/Not-Admitted']\n",
    "df = pd.read_csv(\"../Datasets/Logistic.csv\", header=None)\n",
    "df.columns = feature_columns\n",
    "X = df.iloc[:, :-1]\n",
    "y = df.iloc[:, 2]\n",
    "theta = np.zeros((len(X), 1))"
   ]
  },
  {
   "cell_type": "code",
   "execution_count": 433,
   "metadata": {},
   "outputs": [],
   "source": [
    "alpha = 0.01\n",
    "epochs = 100"
   ]
  },
  {
   "cell_type": "code",
   "execution_count": 434,
   "metadata": {},
   "outputs": [
    {
     "data": {
      "text/plain": [
       "[<matplotlib.lines.Line2D at 0x1142a52b0>]"
      ]
     },
     "execution_count": 434,
     "metadata": {},
     "output_type": "execute_result"
    },
    {
     "data": {
      "image/png": "[encoded data removed]",
      "text/plain": [
       "<Figure size 432x288 with 1 Axes>"
      ]
     },
     "metadata": {
      "needs_background": "light"
     },
     "output_type": "display_data"
    }
   ],
   "source": [
    "mask_notAdm = X[y == 0]\n",
    "\n",
    "mask_adm = X[y == 1]\n",
    "plt.plot(mask_adm['Test1 Marks'], mask_adm['Test2 Marks'], 'o', color='green')\n",
    "plt.plot(mask_notAdm['Test1 Marks'], mask_notAdm['Test2 Marks'], 'o', color='red')"
   ]
  },
  {
   "cell_type": "code",
   "execution_count": 435,
   "metadata": {},
   "outputs": [],
   "source": [
    "(m, n) = np.shape(X)\n",
    "X = np.column_stack((np.ones(len(X)), X))"
   ]
  },
  {
   "cell_type": "code",
   "execution_count": 436,
   "metadata": {},
   "outputs": [],
   "source": [
    "def sigmoid(z):\n",
    "    return 1 / (1 + np.exp(-z))"
   ]
  },
  {
   "cell_type": "code",
   "execution_count": 437,
   "metadata": {},
   "outputs": [],
   "source": [
    "def cost(h, y):\n",
    "    return (-y * np.log(h) - (1 - y) * np.log(1 - h)).mean()"
   ]
  },
  {
   "cell_type": "code",
   "execution_count": 438,
   "metadata": {},
   "outputs": [],
   "source": [
    "def gradientDescent(X, y, alpha, epochs):\n",
    "    theta = np.zeros(np.shape(X[1]))\n",
    "    descent = []\n",
    "    \n",
    "    for i in range(epochs):\n",
    "        z = np.dot(X, theta)\n",
    "        h = sigmoid(z)\n",
    "        gradient = np.dot(X.T, (h - y)) / y.size\n",
    "        theta -= 0.0001 * gradient\n",
    "        \n",
    "        z = np.dot(X, theta)\n",
    "        h = sigmoid(z)\n",
    "        loss = cost(h, y)\n",
    "        \n",
    "        if i % 100 == 0:\n",
    "            descent.append(loss)\n",
    "            print(f'Cost : {loss}\\t', f'Weights : {theta}\\t')\n",
    "    return descent, theta"
   ]
  },
  {
   "cell_type": "code",
   "execution_count": 439,
   "metadata": {
    "scrolled": false
   },
   "outputs": [
    {
     "name": "stdout",
     "output_type": "stream",
     "text": [
      "Cost : 0.6690967609080577\t Weights : [1.00000000e-05 1.20092166e-03 1.12628422e-03]\t\n"
     ]
    }
   ],
   "source": [
    "Gdescent, theta = gradientDescent(X, y, alpha, epochs)"
   ]
  },
  {
   "cell_type": "code",
   "execution_count": 442,
   "metadata": {},
   "outputs": [
    {
     "data": {
      "text/plain": [
       "0.008177052912694764"
      ]
     },
     "execution_count": 442,
     "metadata": {},
     "output_type": "execute_result"
    }
   ],
   "source": [
    "theta[1]"
   ]
  },
  {
   "cell_type": "code",
   "execution_count": 389,
   "metadata": {},
   "outputs": [
    {
     "data": {
      "text/plain": [
       "Text(0, 0.5, 'Loss')"
      ]
     },
     "execution_count": 389,
     "metadata": {},
     "output_type": "execute_result"
    },
    {
     "data": {
      "image/png": "[encoded data removed]",
      "text/plain": [
       "<Figure size 432x288 with 1 Axes>"
      ]
     },
     "metadata": {
      "needs_background": "light"
     },
     "output_type": "display_data"
    }
   ],
   "source": [
    "plt.plot(Gdescent, '-')\n",
    "plt.xlabel(\"Number of Iterations (in 100s)\")\n",
    "plt.ylabel(\"Loss\")"
   ]
  },
  {
   "cell_type": "code",
   "execution_count": 455,
   "metadata": {},
   "outputs": [
    {
     "data": {
      "text/plain": [
       "[<matplotlib.lines.Line2D at 0x113e5a240>,\n",
       " <matplotlib.lines.Line2D at 0x113e5ab38>]"
      ]
     },
     "execution_count": 455,
     "metadata": {},
     "output_type": "execute_result"
    },
    {
     "data": {
      "image/png": "[encoded data removed]",
      "text/plain": [
       "<Figure size 432x288 with 1 Axes>"
      ]
     },
     "metadata": {
      "needs_background": "light"
     },
     "output_type": "display_data"
    }
   ],
   "source": [
    "domain =  np.linspace(0,100,100)\n",
    "plt.plot(mask_adm['Test1 Marks'], mask_adm['Test2 Marks'], 'o', color='green')\n",
    "plt.plot(mask_notAdm['Test1 Marks'], mask_notAdm['Test2 Marks'], 'o', color='red')\n",
    "h_x = -(theta[0]/theta[1])*domain - (theta[2]/theta[2])\n",
    "# plt.plot(domain,h_x)\n",
    "plt.plot(domain, h_x, '.', domain, h_x, '-')"
   ]
  },
  {
   "cell_type": "code",
   "execution_count": null,
   "metadata": {},
   "outputs": [],
   "source": []
  }
 ],
 "metadata": {
  "kernelspec": {
   "display_name": "Python 3",
   "language": "python",
   "name": "python3"
  },
  "language_info": {
   "codemirror_mode": {
    "name": "ipython",
    "version": 3
   },
   "file_extension": ".py",
   "mimetype": "text/x-python",
   "name": "python",
   "nbconvert_exporter": "python",
   "pygments_lexer": "ipython3",
   "version": "3.7.3"
  }
 },
 "nbformat": 4,
 "nbformat_minor": 2
}
